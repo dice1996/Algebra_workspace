{
 "cells": [
  {
   "cell_type": "markdown",
   "metadata": {},
   "source": [
    "Zadatak 1: \n",
    "Od korisnika traziti unos 10 brojeva, te nakon zavrsetka unosa ispisati prosjecnu vrijednost svih unesenih brojeva"
   ]
  },
  {
   "cell_type": "code",
   "execution_count": 5,
   "metadata": {},
   "outputs": [
    {
     "name": "stdout",
     "output_type": "stream",
     "text": [
      "Prosjek svih unesenih 10 brojeva je 23.2.\n"
     ]
    }
   ],
   "source": [
    "rez = 0\n",
    "for i in range(0, 10):\n",
    "    flag = 1\n",
    "    while flag:\n",
    "        try:\n",
    "            unos = int(input(f\"Unesi {i + 1}. broj: \"))\n",
    "            flag = 0\n",
    "        except:\n",
    "            print(\"Uneseno nije broj! Pokušaj ponovno!\\n\")\n",
    "    rez += unos\n",
    "\n",
    "print(f\"Prosjek svih unesenih 10 brojeva je {rez / 10}.\")"
   ]
  },
  {
   "cell_type": "markdown",
   "metadata": {},
   "source": [
    "Zadatak 2:\n",
    "traziti od korisnika 10 brojeva i zbrojiti (odvojeno) sve parne i sve neparne"
   ]
  },
  {
   "cell_type": "code",
   "execution_count": 3,
   "metadata": {},
   "outputs": [
    {
     "name": "stdout",
     "output_type": "stream",
     "text": [
      "Zbroj parnih unesenih brojeva je 30, dok je zbroj neparnih brojeva 25\n"
     ]
    }
   ],
   "source": [
    "zbrojPar = 0\n",
    "ZbrojNepar = 0\n",
    "\n",
    "for i in range(0, 10):\n",
    "    flag = 1\n",
    "    while flag:\n",
    "        try:\n",
    "            unos = int(input(f\"Unesi {i + 1}. broj: \"))\n",
    "            flag = 0\n",
    "        except:\n",
    "            print(\"Uneseno nije broj! Pokušaj ponovno!\\n\")\n",
    "        if unos%2 == 0:\n",
    "            zbrojPar += unos\n",
    "        else:\n",
    "            ZbrojNepar += unos\n",
    "print(f\"Zbroj parnih unesenih brojeva je {zbrojPar}, dok je zbroj neparnih brojeva {ZbrojNepar}\")"
   ]
  },
  {
   "cell_type": "markdown",
   "metadata": {},
   "source": [
    "Zadatak 3:\n",
    "traziti od korisnika unos brojeva sve do trenutka do kad ne pritisne 0. Ispisati najmanji i najveci broj koji je korisnik unio"
   ]
  },
  {
   "cell_type": "code",
   "execution_count": 9,
   "metadata": {},
   "outputs": [
    {
     "name": "stdout",
     "output_type": "stream",
     "text": [
      "Najmanji uneseni broj je -25, dok je najveci 525\n"
     ]
    }
   ],
   "source": [
    "minBroj = None\n",
    "maxBroj = None\n",
    "broj = 1\n",
    "\n",
    "while broj != 0:\n",
    "    try:\n",
    "        broj = int(input(\"Unesi broj: \"))\n",
    "        if broj == 0:\n",
    "            continue\n",
    "        if minBroj == None:\n",
    "            minBroj = broj\n",
    "            maxBroj = broj\n",
    "    except:\n",
    "        print(\"Uneseno nije broj! Pokušaj ponovno!\\n\")\n",
    "    if broj > maxBroj:\n",
    "        maxBroj = broj\n",
    "    elif broj < minBroj:\n",
    "        minBroj = broj\n",
    "\n",
    "print(f\"Najmanji uneseni broj je {minBroj}, dok je najveci {maxBroj}\")"
   ]
  },
  {
   "cell_type": "markdown",
   "metadata": {},
   "source": [
    "Zadatak 4:\n",
    "Pitati korisnika koliko brojeva zeli unijeti. Nakon sto odabere broj, unositi toliko brojeva koliko je odabrao, izbrojati koliko unesenih brojeva ja parnih, a koliko neparnih"
   ]
  },
  {
   "cell_type": "code",
   "execution_count": 10,
   "metadata": {},
   "outputs": [
    {
     "name": "stdout",
     "output_type": "stream",
     "text": [
      "Broj parnih brojeva je 2 a neparnih 3.\n"
     ]
    }
   ],
   "source": [
    "flag = 1\n",
    "counterPar = 0\n",
    "CounterNepar = 0\n",
    "\n",
    "while flag:\n",
    "    try:\n",
    "        brojUnosa = int(input(\"Unesi koliko brojeva zelis unijeti: \"))\n",
    "        flag = 0\n",
    "    except:\n",
    "        print(\"Uneseno nije broj! Pokušaj ponovno!\\n\")\n",
    "\n",
    "for i in range(brojUnosa):\n",
    "    flag = 1\n",
    "    while flag:\n",
    "        try:\n",
    "            unos = int(input(f\"Unesi {i + 1}. broj: \"))\n",
    "            flag = 0\n",
    "        except:\n",
    "            print(\"Uneseno nije broj! Pokušaj ponovno!\\n\")\n",
    "    if unos%2 == 0:\n",
    "        counterPar += 1\n",
    "    else:\n",
    "        CounterNepar += 1\n",
    "\n",
    "print(f\"Broj parnih brojeva je {counterPar} a neparnih {CounterNepar}.\")"
   ]
  },
  {
   "cell_type": "markdown",
   "metadata": {},
   "source": [
    "Zadatak 5:\n",
    "Ispisati poruku: Da li zelite upisati broj (d/n). Korisnik unosi brojeve tako dugo dok ne pritisne n (sve vrijednosti osim d i n nisu valjanje). Izbrojati koliko je brojeva pozitivnih a koliko negativnih (nakon sto korisnik odabere opciju n i izade iz programa)"
   ]
  },
  {
   "cell_type": "code",
   "execution_count": 1,
   "metadata": {},
   "outputs": [
    {
     "name": "stdout",
     "output_type": "stream",
     "text": [
      "Broj pozitivnih brojeva je 2, a negativnih 1\n"
     ]
    }
   ],
   "source": [
    "flag = 1\n",
    "poz = 0\n",
    "neg = 0\n",
    "broj = 0\n",
    "\n",
    "while flag:\n",
    "    odluka = input(\"Zelite li upisati broj (d/n): \")\n",
    "    if odluka == \"d\":\n",
    "        while broj != 'n':\n",
    "            broj = input(\"Unesi broj ili 'n' za prekid unosa: \")\n",
    "            if broj == \"n\" or broj == \"d\":\n",
    "                odluka = \"n\"\n",
    "                broj = \"n\"\n",
    "            else:\n",
    "                try:\n",
    "                    broj = int(broj)\n",
    "                    if broj > 0:\n",
    "                        poz += 1\n",
    "                    else:\n",
    "                        neg += 1\n",
    "                except ValueError:\n",
    "                    print(\"Uneseni znak nije dozvoljen!\")\n",
    "    elif odluka == \"n\":\n",
    "        print(f\"Broj pozitivnih brojeva je {poz}, a negativnih {neg}\")\n",
    "        flag = 0\n",
    "    else:\n",
    "        print(\"Nije valjana radnja, pokusaj ponovno!\")"
   ]
  }
 ],
 "metadata": {
  "kernelspec": {
   "display_name": "Python 3.10.6 64-bit",
   "language": "python",
   "name": "python3"
  },
  "language_info": {
   "codemirror_mode": {
    "name": "ipython",
    "version": 3
   },
   "file_extension": ".py",
   "mimetype": "text/x-python",
   "name": "python",
   "nbconvert_exporter": "python",
   "pygments_lexer": "ipython3",
   "version": "3.10.6"
  },
  "orig_nbformat": 4,
  "vscode": {
   "interpreter": {
    "hash": "916dbcbb3f70747c44a77c7bcd40155683ae19c65e1c03b4aa3499c5328201f1"
   }
  }
 },
 "nbformat": 4,
 "nbformat_minor": 2
}
