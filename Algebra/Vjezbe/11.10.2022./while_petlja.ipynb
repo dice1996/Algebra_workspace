{
 "cells": [
  {
   "cell_type": "raw",
   "metadata": {},
   "source": [
    "While petlja\n",
    "potrebno paziti da petlja ne bude beskonačna - ukoliko uvijet uvijek istinit, unutar petlje potrebno koristiti *break* za prekidanje petlje\n",
    "\n",
    "\n",
    "while uvijet:\n",
    "    blok koda\n",
    "    break\n",
    "\n",
    "#kod izvan koda"
   ]
  },
  {
   "cell_type": "code",
   "execution_count": null,
   "metadata": {},
   "outputs": [],
   "source": [
    "pocetak = 0\n",
    "while pocetak != 10:\n",
    "    pocetak += 1\n",
    "    print(pocetak)"
   ]
  }
 ],
 "metadata": {
  "kernelspec": {
   "display_name": "Python 3.10.6 64-bit",
   "language": "python",
   "name": "python3"
  },
  "language_info": {
   "codemirror_mode": {
    "name": "ipython",
    "version": 3
   },
   "file_extension": ".py",
   "mimetype": "text/x-python",
   "name": "python",
   "nbconvert_exporter": "python",
   "pygments_lexer": "ipython3",
   "version": "3.10.6"
  },
  "orig_nbformat": 4,
  "vscode": {
   "interpreter": {
    "hash": "916dbcbb3f70747c44a77c7bcd40155683ae19c65e1c03b4aa3499c5328201f1"
   }
  }
 },
 "nbformat": 4,
 "nbformat_minor": 2
}
