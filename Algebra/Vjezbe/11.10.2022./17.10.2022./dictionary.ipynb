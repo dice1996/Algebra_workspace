{
 "cells": [
  {
   "cell_type": "markdown",
   "metadata": {},
   "source": [
    "dict je kolekcija podataka - proizlazi iz formata json\n",
    "\n",
    "sastoji se od:\n",
    "dict = {\n",
    "    ključ: vrijednost\n",
    "}\n"
   ]
  },
  {
   "cell_type": "code",
   "execution_count": 15,
   "metadata": {},
   "outputs": [
    {
     "name": "stdout",
     "output_type": "stream",
     "text": [
      "[{'imeUcenika': 'Ante', 'prezimeUcenika': 'Antic'}, {'imeUcenika': 'Ana', 'prezimeUcenika': 'Anic'}]\n",
      "Ante\n",
      "Ana\n",
      "{\n",
      "  \"ime\": \"Dino\",\n",
      "  \"brojGodina\": 27,\n",
      "  \"listaPredmeta\": [\n",
      "    \"Python\",\n",
      "    \"Android\"\n",
      "  ],\n",
      "  \"ucenici\": [\n",
      "    {\n",
      "      \"imeUcenika\": \"Ante\",\n",
      "      \"prezimeUcenika\": \"Antic\"\n",
      "    },\n",
      "    {\n",
      "      \"imeUcenika\": \"Ana\",\n",
      "      \"prezimeUcenika\": \"Anic\"\n",
      "    }\n",
      "  ],\n",
      "  \"grad\": {\n",
      "    \"ime\": \"Osijek\",\n",
      "    \"zip\": 31000\n",
      "  }\n",
      "}\n"
     ]
    }
   ],
   "source": [
    "import json\n",
    "\n",
    "dictionary = {\n",
    "    \"ime\": \"Dino\",\n",
    "    \"brojGodina\": 27,\n",
    "    \"listaPredmeta\": [\"Python\", \"Android\"],\n",
    "    \"ucenici\":[\n",
    "    {\n",
    "        \"imeUcenika\": \"Ante\",\n",
    "        \"prezimeUcenika\": \"Antic\"\n",
    "    },\n",
    "    {\n",
    "        \"imeUcenika\": \"Ana\",\n",
    "        \"prezimeUcenika\": \"Anic\"\n",
    "    }\n",
    "    ],\n",
    "    \"grad\": {\n",
    "        \"ime\": \"Osijek\",\n",
    "        \"zip\": 31000\n",
    "    }\n",
    "}\n",
    "test = dictionary.copy()\n",
    "\n",
    "print(dictionary[\"ucenici\"])\n",
    "\n",
    "for ucenik in test[\"ucenici\"]:\n",
    "    print(ucenik[\"imeUcenika\"])\n",
    "\n",
    "print(json.dumps(dictionary, indent=2))"
   ]
  }
 ],
 "metadata": {
  "kernelspec": {
   "display_name": "Python 3.10.6 64-bit",
   "language": "python",
   "name": "python3"
  },
  "language_info": {
   "codemirror_mode": {
    "name": "ipython",
    "version": 3
   },
   "file_extension": ".py",
   "mimetype": "text/x-python",
   "name": "python",
   "nbconvert_exporter": "python",
   "pygments_lexer": "ipython3",
   "version": "3.10.6"
  },
  "orig_nbformat": 4,
  "vscode": {
   "interpreter": {
    "hash": "916dbcbb3f70747c44a77c7bcd40155683ae19c65e1c03b4aa3499c5328201f1"
   }
  }
 },
 "nbformat": 4,
 "nbformat_minor": 2
}
